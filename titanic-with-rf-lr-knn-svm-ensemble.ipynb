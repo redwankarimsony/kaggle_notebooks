{
 "cells": [
  {
   "cell_type": "markdown",
   "metadata": {
    "papermill": {
     "duration": 0.01942,
     "end_time": "2020-10-27T02:36:13.881707",
     "exception": false,
     "start_time": "2020-10-27T02:36:13.862287",
     "status": "completed"
    },
    "tags": []
   },
   "source": [
    "![](https://prachimjoshi.files.wordpress.com/2015/07/screen_shot_2010-12-03_at_5-46-21_pm.png)"
   ]
  },
  {
   "cell_type": "code",
   "execution_count": 1,
   "metadata": {
    "execution": {
     "iopub.execute_input": "2020-10-27T02:36:13.929548Z",
     "iopub.status.busy": "2020-10-27T02:36:13.927501Z",
     "iopub.status.idle": "2020-10-27T02:36:28.276074Z",
     "shell.execute_reply": "2020-10-27T02:36:28.275226Z"
    },
    "papermill": {
     "duration": 14.376002,
     "end_time": "2020-10-27T02:36:28.276248",
     "exception": false,
     "start_time": "2020-10-27T02:36:13.900246",
     "status": "completed"
    },
    "tags": []
   },
   "outputs": [
    {
     "name": "stdout",
     "output_type": "stream",
     "text": [
      "Collecting seaborn==0.11.0\r\n",
      "  Downloading seaborn-0.11.0-py3-none-any.whl (283 kB)\r\n",
      "\u001b[K     |████████████████████████████████| 283 kB 196 kB/s \r\n",
      "\u001b[?25hRequirement already satisfied: matplotlib>=2.2 in /opt/conda/lib/python3.7/site-packages (from seaborn==0.11.0) (3.2.1)\r\n",
      "Requirement already satisfied: scipy>=1.0 in /opt/conda/lib/python3.7/site-packages (from seaborn==0.11.0) (1.4.1)\r\n",
      "Requirement already satisfied: numpy>=1.15 in /opt/conda/lib/python3.7/site-packages (from seaborn==0.11.0) (1.18.5)\r\n",
      "Requirement already satisfied: pandas>=0.23 in /opt/conda/lib/python3.7/site-packages (from seaborn==0.11.0) (1.1.3)\r\n",
      "Requirement already satisfied: kiwisolver>=1.0.1 in /opt/conda/lib/python3.7/site-packages (from matplotlib>=2.2->seaborn==0.11.0) (1.2.0)\r\n",
      "Requirement already satisfied: python-dateutil>=2.1 in /opt/conda/lib/python3.7/site-packages (from matplotlib>=2.2->seaborn==0.11.0) (2.8.1)\r\n",
      "Requirement already satisfied: pyparsing!=2.0.4,!=2.1.2,!=2.1.6,>=2.0.1 in /opt/conda/lib/python3.7/site-packages (from matplotlib>=2.2->seaborn==0.11.0) (2.4.7)\r\n",
      "Requirement already satisfied: cycler>=0.10 in /opt/conda/lib/python3.7/site-packages (from matplotlib>=2.2->seaborn==0.11.0) (0.10.0)\r\n",
      "Requirement already satisfied: pytz>=2017.2 in /opt/conda/lib/python3.7/site-packages (from pandas>=0.23->seaborn==0.11.0) (2019.3)\r\n",
      "Requirement already satisfied: six>=1.5 in /opt/conda/lib/python3.7/site-packages (from python-dateutil>=2.1->matplotlib>=2.2->seaborn==0.11.0) (1.14.0)\r\n",
      "Installing collected packages: seaborn\r\n",
      "  Attempting uninstall: seaborn\r\n",
      "    Found existing installation: seaborn 0.10.0\r\n",
      "    Uninstalling seaborn-0.10.0:\r\n",
      "      Successfully uninstalled seaborn-0.10.0\r\n",
      "Successfully installed seaborn-0.11.0\r\n"
     ]
    }
   ],
   "source": [
    "!pip install seaborn==0.11.0\n",
    "import pandas as pd\n",
    "import csv as csv\n",
    "\n",
    "import numpy as np\n",
    "import matplotlib.pyplot as plt\n",
    "import seaborn as sns\n",
    "\n",
    "\n",
    "from sklearn.linear_model import LogisticRegression\n",
    "from sklearn.svm import SVC\n",
    "from sklearn.ensemble import RandomForestClassifier\n",
    "from sklearn.neighbors import KNeighborsClassifier\n",
    "from sklearn.ensemble import VotingClassifier\n",
    "\n",
    "np.random.seed(24568)"
   ]
  },
  {
   "cell_type": "markdown",
   "metadata": {
    "papermill": {
     "duration": 0.025416,
     "end_time": "2020-10-27T02:36:28.330284",
     "exception": false,
     "start_time": "2020-10-27T02:36:28.304868",
     "status": "completed"
    },
    "tags": []
   },
   "source": [
    "# Loading The Dataset"
   ]
  },
  {
   "cell_type": "code",
   "execution_count": 2,
   "metadata": {
    "execution": {
     "iopub.execute_input": "2020-10-27T02:36:28.389694Z",
     "iopub.status.busy": "2020-10-27T02:36:28.388917Z",
     "iopub.status.idle": "2020-10-27T02:36:28.434967Z",
     "shell.execute_reply": "2020-10-27T02:36:28.434196Z"
    },
    "papermill": {
     "duration": 0.079205,
     "end_time": "2020-10-27T02:36:28.435095",
     "exception": false,
     "start_time": "2020-10-27T02:36:28.355890",
     "status": "completed"
    },
    "tags": []
   },
   "outputs": [
    {
     "data": {
      "text/html": [
       "<div>\n",
       "<style scoped>\n",
       "    .dataframe tbody tr th:only-of-type {\n",
       "        vertical-align: middle;\n",
       "    }\n",
       "\n",
       "    .dataframe tbody tr th {\n",
       "        vertical-align: top;\n",
       "    }\n",
       "\n",
       "    .dataframe thead th {\n",
       "        text-align: right;\n",
       "    }\n",
       "</style>\n",
       "<table border=\"1\" class=\"dataframe\">\n",
       "  <thead>\n",
       "    <tr style=\"text-align: right;\">\n",
       "      <th></th>\n",
       "      <th>PassengerId</th>\n",
       "      <th>Survived</th>\n",
       "      <th>Pclass</th>\n",
       "      <th>Name</th>\n",
       "      <th>Sex</th>\n",
       "      <th>Age</th>\n",
       "      <th>SibSp</th>\n",
       "      <th>Parch</th>\n",
       "      <th>Ticket</th>\n",
       "      <th>Fare</th>\n",
       "      <th>Cabin</th>\n",
       "      <th>Embarked</th>\n",
       "    </tr>\n",
       "  </thead>\n",
       "  <tbody>\n",
       "    <tr>\n",
       "      <th>0</th>\n",
       "      <td>1</td>\n",
       "      <td>0</td>\n",
       "      <td>3</td>\n",
       "      <td>Braund, Mr. Owen Harris</td>\n",
       "      <td>male</td>\n",
       "      <td>22.0</td>\n",
       "      <td>1</td>\n",
       "      <td>0</td>\n",
       "      <td>A/5 21171</td>\n",
       "      <td>7.2500</td>\n",
       "      <td>NaN</td>\n",
       "      <td>S</td>\n",
       "    </tr>\n",
       "    <tr>\n",
       "      <th>1</th>\n",
       "      <td>2</td>\n",
       "      <td>1</td>\n",
       "      <td>1</td>\n",
       "      <td>Cumings, Mrs. John Bradley (Florence Briggs Th...</td>\n",
       "      <td>female</td>\n",
       "      <td>38.0</td>\n",
       "      <td>1</td>\n",
       "      <td>0</td>\n",
       "      <td>PC 17599</td>\n",
       "      <td>71.2833</td>\n",
       "      <td>C85</td>\n",
       "      <td>C</td>\n",
       "    </tr>\n",
       "    <tr>\n",
       "      <th>2</th>\n",
       "      <td>3</td>\n",
       "      <td>1</td>\n",
       "      <td>3</td>\n",
       "      <td>Heikkinen, Miss. Laina</td>\n",
       "      <td>female</td>\n",
       "      <td>26.0</td>\n",
       "      <td>0</td>\n",
       "      <td>0</td>\n",
       "      <td>STON/O2. 3101282</td>\n",
       "      <td>7.9250</td>\n",
       "      <td>NaN</td>\n",
       "      <td>S</td>\n",
       "    </tr>\n",
       "    <tr>\n",
       "      <th>3</th>\n",
       "      <td>4</td>\n",
       "      <td>1</td>\n",
       "      <td>1</td>\n",
       "      <td>Futrelle, Mrs. Jacques Heath (Lily May Peel)</td>\n",
       "      <td>female</td>\n",
       "      <td>35.0</td>\n",
       "      <td>1</td>\n",
       "      <td>0</td>\n",
       "      <td>113803</td>\n",
       "      <td>53.1000</td>\n",
       "      <td>C123</td>\n",
       "      <td>S</td>\n",
       "    </tr>\n",
       "    <tr>\n",
       "      <th>4</th>\n",
       "      <td>5</td>\n",
       "      <td>0</td>\n",
       "      <td>3</td>\n",
       "      <td>Allen, Mr. William Henry</td>\n",
       "      <td>male</td>\n",
       "      <td>35.0</td>\n",
       "      <td>0</td>\n",
       "      <td>0</td>\n",
       "      <td>373450</td>\n",
       "      <td>8.0500</td>\n",
       "      <td>NaN</td>\n",
       "      <td>S</td>\n",
       "    </tr>\n",
       "  </tbody>\n",
       "</table>\n",
       "</div>"
      ],
      "text/plain": [
       "   PassengerId  Survived  Pclass  \\\n",
       "0            1         0       3   \n",
       "1            2         1       1   \n",
       "2            3         1       3   \n",
       "3            4         1       1   \n",
       "4            5         0       3   \n",
       "\n",
       "                                                Name     Sex   Age  SibSp  \\\n",
       "0                            Braund, Mr. Owen Harris    male  22.0      1   \n",
       "1  Cumings, Mrs. John Bradley (Florence Briggs Th...  female  38.0      1   \n",
       "2                             Heikkinen, Miss. Laina  female  26.0      0   \n",
       "3       Futrelle, Mrs. Jacques Heath (Lily May Peel)  female  35.0      1   \n",
       "4                           Allen, Mr. William Henry    male  35.0      0   \n",
       "\n",
       "   Parch            Ticket     Fare Cabin Embarked  \n",
       "0      0         A/5 21171   7.2500   NaN        S  \n",
       "1      0          PC 17599  71.2833   C85        C  \n",
       "2      0  STON/O2. 3101282   7.9250   NaN        S  \n",
       "3      0            113803  53.1000  C123        S  \n",
       "4      0            373450   8.0500   NaN        S  "
      ]
     },
     "execution_count": 2,
     "metadata": {},
     "output_type": "execute_result"
    }
   ],
   "source": [
    "train_df = pd.read_csv(\"../input/titanic/train.csv\")\n",
    "test_df  = pd.read_csv(\"../input/titanic/test.csv\")\n",
    "train_df.head()"
   ]
  },
  {
   "cell_type": "code",
   "execution_count": 3,
   "metadata": {
    "execution": {
     "iopub.execute_input": "2020-10-27T02:36:28.507781Z",
     "iopub.status.busy": "2020-10-27T02:36:28.506768Z",
     "iopub.status.idle": "2020-10-27T02:36:28.510685Z",
     "shell.execute_reply": "2020-10-27T02:36:28.511573Z"
    },
    "papermill": {
     "duration": 0.049387,
     "end_time": "2020-10-27T02:36:28.511821",
     "exception": false,
     "start_time": "2020-10-27T02:36:28.462434",
     "status": "completed"
    },
    "tags": []
   },
   "outputs": [
    {
     "name": "stdout",
     "output_type": "stream",
     "text": [
      "<class 'pandas.core.frame.DataFrame'>\n",
      "RangeIndex: 891 entries, 0 to 890\n",
      "Data columns (total 12 columns):\n",
      " #   Column       Non-Null Count  Dtype  \n",
      "---  ------       --------------  -----  \n",
      " 0   PassengerId  891 non-null    int64  \n",
      " 1   Survived     891 non-null    int64  \n",
      " 2   Pclass       891 non-null    int64  \n",
      " 3   Name         891 non-null    object \n",
      " 4   Sex          891 non-null    object \n",
      " 5   Age          714 non-null    float64\n",
      " 6   SibSp        891 non-null    int64  \n",
      " 7   Parch        891 non-null    int64  \n",
      " 8   Ticket       891 non-null    object \n",
      " 9   Fare         891 non-null    float64\n",
      " 10  Cabin        204 non-null    object \n",
      " 11  Embarked     889 non-null    object \n",
      "dtypes: float64(2), int64(5), object(5)\n",
      "memory usage: 83.7+ KB\n"
     ]
    }
   ],
   "source": [
    "train_df.info()"
   ]
  },
  {
   "cell_type": "code",
   "execution_count": 4,
   "metadata": {
    "execution": {
     "iopub.execute_input": "2020-10-27T02:36:28.579579Z",
     "iopub.status.busy": "2020-10-27T02:36:28.575996Z",
     "iopub.status.idle": "2020-10-27T02:36:28.590355Z",
     "shell.execute_reply": "2020-10-27T02:36:28.589192Z"
    },
    "papermill": {
     "duration": 0.049876,
     "end_time": "2020-10-27T02:36:28.590556",
     "exception": false,
     "start_time": "2020-10-27T02:36:28.540680",
     "status": "completed"
    },
    "tags": []
   },
   "outputs": [
    {
     "name": "stdout",
     "output_type": "stream",
     "text": [
      "<class 'pandas.core.frame.DataFrame'>\n",
      "RangeIndex: 418 entries, 0 to 417\n",
      "Data columns (total 11 columns):\n",
      " #   Column       Non-Null Count  Dtype  \n",
      "---  ------       --------------  -----  \n",
      " 0   PassengerId  418 non-null    int64  \n",
      " 1   Pclass       418 non-null    int64  \n",
      " 2   Name         418 non-null    object \n",
      " 3   Sex          418 non-null    object \n",
      " 4   Age          332 non-null    float64\n",
      " 5   SibSp        418 non-null    int64  \n",
      " 6   Parch        418 non-null    int64  \n",
      " 7   Ticket       418 non-null    object \n",
      " 8   Fare         417 non-null    float64\n",
      " 9   Cabin        91 non-null     object \n",
      " 10  Embarked     418 non-null    object \n",
      "dtypes: float64(2), int64(4), object(5)\n",
      "memory usage: 36.0+ KB\n"
     ]
    }
   ],
   "source": [
    "test_df.info()"
   ]
  },
  {
   "cell_type": "markdown",
   "metadata": {
    "papermill": {
     "duration": 0.028984,
     "end_time": "2020-10-27T02:36:28.648124",
     "exception": false,
     "start_time": "2020-10-27T02:36:28.619140",
     "status": "completed"
    },
    "tags": []
   },
   "source": [
    "Looks like we have several data feature missing in both of the training data and testing dataset. We will take care of them in the later section of the notebook. But before that we will remove some of the unnecessary features from the train and test dataset. "
   ]
  },
  {
   "cell_type": "code",
   "execution_count": 5,
   "metadata": {
    "execution": {
     "iopub.execute_input": "2020-10-27T02:36:28.718243Z",
     "iopub.status.busy": "2020-10-27T02:36:28.717143Z",
     "iopub.status.idle": "2020-10-27T02:36:28.721119Z",
     "shell.execute_reply": "2020-10-27T02:36:28.720450Z"
    },
    "papermill": {
     "duration": 0.043938,
     "end_time": "2020-10-27T02:36:28.721279",
     "exception": false,
     "start_time": "2020-10-27T02:36:28.677341",
     "status": "completed"
    },
    "tags": []
   },
   "outputs": [],
   "source": [
    "#drop un-insightful columns\n",
    "train_df = train_df.drop(['PassengerId','Name','Ticket','Cabin'], axis=1)\n",
    "test_df  = test_df.drop(['Name','Ticket','Cabin'], axis=1)"
   ]
  },
  {
   "cell_type": "markdown",
   "metadata": {
    "papermill": {
     "duration": 0.027646,
     "end_time": "2020-10-27T02:36:28.777289",
     "exception": false,
     "start_time": "2020-10-27T02:36:28.749643",
     "status": "completed"
    },
    "tags": []
   },
   "source": [
    "### Replacing the Categorical Feature with Binary Number"
   ]
  },
  {
   "cell_type": "code",
   "execution_count": 6,
   "metadata": {
    "execution": {
     "iopub.execute_input": "2020-10-27T02:36:28.870415Z",
     "iopub.status.busy": "2020-10-27T02:36:28.869679Z",
     "iopub.status.idle": "2020-10-27T02:36:29.106529Z",
     "shell.execute_reply": "2020-10-27T02:36:29.105734Z"
    },
    "papermill": {
     "duration": 0.296009,
     "end_time": "2020-10-27T02:36:29.106657",
     "exception": false,
     "start_time": "2020-10-27T02:36:28.810648",
     "status": "completed"
    },
    "tags": []
   },
   "outputs": [
    {
     "data": {
      "text/plain": [
       "<matplotlib.axes._subplots.AxesSubplot at 0x7f415c264bd0>"
      ]
     },
     "execution_count": 6,
     "metadata": {},
     "output_type": "execute_result"
    },
    {
     "data": {
      "image/png": "[encoded data removed]",
      "text/plain": [
       "<Figure size 432x288 with 1 Axes>"
      ]
     },
     "metadata": {
      "needs_background": "light"
     },
     "output_type": "display_data"
    }
   ],
   "source": [
    "#feature by feature analysis\n",
    "#Gender: replace male/female with integers\n",
    "mapping = {'male':1,'female':0}\n",
    "train_df['Gender'] = train_df['Sex'].map(mapping).astype(int)\n",
    "test_df['Gender'] = test_df['Sex'].map(mapping).astype(int)\n",
    "train_df = train_df.drop(['Sex'], axis=1)    \n",
    "test_df = test_df.drop(['Sex'], axis=1)\n",
    "train_df['Gender'].value_counts().plot.bar(title = 'Gender Counts' )"
   ]
  },
  {
   "cell_type": "markdown",
   "metadata": {
    "papermill": {
     "duration": 0.028778,
     "end_time": "2020-10-27T02:36:29.165050",
     "exception": false,
     "start_time": "2020-10-27T02:36:29.136272",
     "status": "completed"
    },
    "tags": []
   },
   "source": [
    "## Taking Care of Missing Values and Categorical Values "
   ]
  },
  {
   "cell_type": "code",
   "execution_count": 7,
   "metadata": {
    "execution": {
     "iopub.execute_input": "2020-10-27T02:36:29.250669Z",
     "iopub.status.busy": "2020-10-27T02:36:29.244405Z",
     "iopub.status.idle": "2020-10-27T02:36:29.394691Z",
     "shell.execute_reply": "2020-10-27T02:36:29.394021Z"
    },
    "papermill": {
     "duration": 0.199664,
     "end_time": "2020-10-27T02:36:29.394823",
     "exception": false,
     "start_time": "2020-10-27T02:36:29.195159",
     "status": "completed"
    },
    "tags": []
   },
   "outputs": [
    {
     "data": {
      "image/png": "[encoded data removed]",
      "text/plain": [
       "<Figure size 432x288 with 1 Axes>"
      ]
     },
     "metadata": {
      "needs_background": "light"
     },
     "output_type": "display_data"
    }
   ],
   "source": [
    "#Embarked: fill na and replace C/Q/S with integers\n",
    "mapping = {'C':0,'Q':1,'S':2}\n",
    "train_df['Embarked'].value_counts().plot.bar(title  = 'Feature Embarked value counts')\n",
    "train_df['Embarked'] = train_df['Embarked'].fillna(\"S\")\n",
    "test_df['Embarked'] = test_df['Embarked'].fillna(\"S\")\n",
    "\n",
    "train_df['Embark'] = train_df['Embarked'].map(mapping).astype(int)\n",
    "test_df['Embark'] = test_df['Embarked'].map(mapping).astype(int)\n",
    "train_df = train_df.drop(['Embarked'], axis=1)    \n",
    "test_df = test_df.drop(['Embarked'], axis=1)  "
   ]
  },
  {
   "cell_type": "code",
   "execution_count": 8,
   "metadata": {
    "execution": {
     "iopub.execute_input": "2020-10-27T02:36:29.467694Z",
     "iopub.status.busy": "2020-10-27T02:36:29.466007Z",
     "iopub.status.idle": "2020-10-27T02:36:29.471567Z",
     "shell.execute_reply": "2020-10-27T02:36:29.470773Z"
    },
    "papermill": {
     "duration": 0.04611,
     "end_time": "2020-10-27T02:36:29.471706",
     "exception": false,
     "start_time": "2020-10-27T02:36:29.425596",
     "status": "completed"
    },
    "tags": []
   },
   "outputs": [],
   "source": [
    "#Age: fill na with medium age\n",
    "median_age = train_df['Age'].dropna().median()\n",
    "train_df['Age'] = train_df['Age'].fillna(median_age)\n",
    "test_df['Age'] = test_df['Age'].fillna(median_age)"
   ]
  },
  {
   "cell_type": "code",
   "execution_count": 9,
   "metadata": {
    "execution": {
     "iopub.execute_input": "2020-10-27T02:36:29.559065Z",
     "iopub.status.busy": "2020-10-27T02:36:29.558108Z",
     "iopub.status.idle": "2020-10-27T02:36:29.563102Z",
     "shell.execute_reply": "2020-10-27T02:36:29.563662Z"
    },
    "papermill": {
     "duration": 0.060322,
     "end_time": "2020-10-27T02:36:29.563849",
     "exception": false,
     "start_time": "2020-10-27T02:36:29.503527",
     "status": "completed"
    },
    "tags": []
   },
   "outputs": [
    {
     "data": {
      "text/html": [
       "<div>\n",
       "<style scoped>\n",
       "    .dataframe tbody tr th:only-of-type {\n",
       "        vertical-align: middle;\n",
       "    }\n",
       "\n",
       "    .dataframe tbody tr th {\n",
       "        vertical-align: top;\n",
       "    }\n",
       "\n",
       "    .dataframe thead th {\n",
       "        text-align: right;\n",
       "    }\n",
       "</style>\n",
       "<table border=\"1\" class=\"dataframe\">\n",
       "  <thead>\n",
       "    <tr style=\"text-align: right;\">\n",
       "      <th></th>\n",
       "      <th>Survived</th>\n",
       "      <th>Pclass</th>\n",
       "      <th>Age</th>\n",
       "      <th>SibSp</th>\n",
       "      <th>Parch</th>\n",
       "      <th>Fare</th>\n",
       "      <th>Gender</th>\n",
       "      <th>Embark</th>\n",
       "    </tr>\n",
       "  </thead>\n",
       "  <tbody>\n",
       "    <tr>\n",
       "      <th>0</th>\n",
       "      <td>0</td>\n",
       "      <td>3</td>\n",
       "      <td>22.0</td>\n",
       "      <td>1</td>\n",
       "      <td>0</td>\n",
       "      <td>7.2500</td>\n",
       "      <td>1</td>\n",
       "      <td>2</td>\n",
       "    </tr>\n",
       "    <tr>\n",
       "      <th>1</th>\n",
       "      <td>1</td>\n",
       "      <td>1</td>\n",
       "      <td>38.0</td>\n",
       "      <td>1</td>\n",
       "      <td>0</td>\n",
       "      <td>71.2833</td>\n",
       "      <td>0</td>\n",
       "      <td>0</td>\n",
       "    </tr>\n",
       "    <tr>\n",
       "      <th>2</th>\n",
       "      <td>1</td>\n",
       "      <td>3</td>\n",
       "      <td>26.0</td>\n",
       "      <td>0</td>\n",
       "      <td>0</td>\n",
       "      <td>7.9250</td>\n",
       "      <td>0</td>\n",
       "      <td>2</td>\n",
       "    </tr>\n",
       "    <tr>\n",
       "      <th>3</th>\n",
       "      <td>1</td>\n",
       "      <td>1</td>\n",
       "      <td>35.0</td>\n",
       "      <td>1</td>\n",
       "      <td>0</td>\n",
       "      <td>53.1000</td>\n",
       "      <td>0</td>\n",
       "      <td>2</td>\n",
       "    </tr>\n",
       "    <tr>\n",
       "      <th>4</th>\n",
       "      <td>0</td>\n",
       "      <td>3</td>\n",
       "      <td>35.0</td>\n",
       "      <td>0</td>\n",
       "      <td>0</td>\n",
       "      <td>8.0500</td>\n",
       "      <td>1</td>\n",
       "      <td>2</td>\n",
       "    </tr>\n",
       "    <tr>\n",
       "      <th>...</th>\n",
       "      <td>...</td>\n",
       "      <td>...</td>\n",
       "      <td>...</td>\n",
       "      <td>...</td>\n",
       "      <td>...</td>\n",
       "      <td>...</td>\n",
       "      <td>...</td>\n",
       "      <td>...</td>\n",
       "    </tr>\n",
       "    <tr>\n",
       "      <th>886</th>\n",
       "      <td>0</td>\n",
       "      <td>2</td>\n",
       "      <td>27.0</td>\n",
       "      <td>0</td>\n",
       "      <td>0</td>\n",
       "      <td>13.0000</td>\n",
       "      <td>1</td>\n",
       "      <td>2</td>\n",
       "    </tr>\n",
       "    <tr>\n",
       "      <th>887</th>\n",
       "      <td>1</td>\n",
       "      <td>1</td>\n",
       "      <td>19.0</td>\n",
       "      <td>0</td>\n",
       "      <td>0</td>\n",
       "      <td>30.0000</td>\n",
       "      <td>0</td>\n",
       "      <td>2</td>\n",
       "    </tr>\n",
       "    <tr>\n",
       "      <th>888</th>\n",
       "      <td>0</td>\n",
       "      <td>3</td>\n",
       "      <td>28.0</td>\n",
       "      <td>1</td>\n",
       "      <td>2</td>\n",
       "      <td>23.4500</td>\n",
       "      <td>0</td>\n",
       "      <td>2</td>\n",
       "    </tr>\n",
       "    <tr>\n",
       "      <th>889</th>\n",
       "      <td>1</td>\n",
       "      <td>1</td>\n",
       "      <td>26.0</td>\n",
       "      <td>0</td>\n",
       "      <td>0</td>\n",
       "      <td>30.0000</td>\n",
       "      <td>1</td>\n",
       "      <td>0</td>\n",
       "    </tr>\n",
       "    <tr>\n",
       "      <th>890</th>\n",
       "      <td>0</td>\n",
       "      <td>3</td>\n",
       "      <td>32.0</td>\n",
       "      <td>0</td>\n",
       "      <td>0</td>\n",
       "      <td>7.7500</td>\n",
       "      <td>1</td>\n",
       "      <td>1</td>\n",
       "    </tr>\n",
       "  </tbody>\n",
       "</table>\n",
       "<p>891 rows × 8 columns</p>\n",
       "</div>"
      ],
      "text/plain": [
       "     Survived  Pclass   Age  SibSp  Parch     Fare  Gender  Embark\n",
       "0           0       3  22.0      1      0   7.2500       1       2\n",
       "1           1       1  38.0      1      0  71.2833       0       0\n",
       "2           1       3  26.0      0      0   7.9250       0       2\n",
       "3           1       1  35.0      1      0  53.1000       0       2\n",
       "4           0       3  35.0      0      0   8.0500       1       2\n",
       "..        ...     ...   ...    ...    ...      ...     ...     ...\n",
       "886         0       2  27.0      0      0  13.0000       1       2\n",
       "887         1       1  19.0      0      0  30.0000       0       2\n",
       "888         0       3  28.0      1      2  23.4500       0       2\n",
       "889         1       1  26.0      0      0  30.0000       1       0\n",
       "890         0       3  32.0      0      0   7.7500       1       1\n",
       "\n",
       "[891 rows x 8 columns]"
      ]
     },
     "execution_count": 9,
     "metadata": {},
     "output_type": "execute_result"
    }
   ],
   "source": [
    "train_df"
   ]
  },
  {
   "cell_type": "code",
   "execution_count": 10,
   "metadata": {
    "execution": {
     "iopub.execute_input": "2020-10-27T02:36:29.639449Z",
     "iopub.status.busy": "2020-10-27T02:36:29.638477Z",
     "iopub.status.idle": "2020-10-27T02:36:30.408241Z",
     "shell.execute_reply": "2020-10-27T02:36:30.407590Z"
    },
    "papermill": {
     "duration": 0.812633,
     "end_time": "2020-10-27T02:36:30.408383",
     "exception": false,
     "start_time": "2020-10-27T02:36:29.595750",
     "status": "completed"
    },
    "tags": []
   },
   "outputs": [
    {
     "data": {
      "image/png": "[encoded data removed]",
      "text/plain": [
       "<Figure size 771.875x360 with 2 Axes>"
      ]
     },
     "metadata": {
      "needs_background": "light"
     },
     "output_type": "display_data"
    }
   ],
   "source": [
    "# sns.distplot(train_df, x=\"Age\", hue=\"Survived\", multiple=\"stack\")\n",
    "sns.displot(data=train_df, x=\"Age\", hue=\"Survived\", col=\"Gender\", kind=\"kde\")\n",
    "plt.grid()"
   ]
  },
  {
   "cell_type": "code",
   "execution_count": 11,
   "metadata": {
    "execution": {
     "iopub.execute_input": "2020-10-27T02:36:30.484631Z",
     "iopub.status.busy": "2020-10-27T02:36:30.483853Z",
     "iopub.status.idle": "2020-10-27T02:36:30.487273Z",
     "shell.execute_reply": "2020-10-27T02:36:30.486574Z"
    },
    "papermill": {
     "duration": 0.045505,
     "end_time": "2020-10-27T02:36:30.487396",
     "exception": false,
     "start_time": "2020-10-27T02:36:30.441891",
     "status": "completed"
    },
    "tags": []
   },
   "outputs": [],
   "source": [
    "#Fare: fill na with medium fare\n",
    "median_fare = train_df['Fare'].dropna().median()\n",
    "test_df['Fare'] = test_df['Fare'].fillna(median_fare)"
   ]
  },
  {
   "cell_type": "markdown",
   "metadata": {
    "papermill": {
     "duration": 0.032976,
     "end_time": "2020-10-27T02:36:30.553465",
     "exception": false,
     "start_time": "2020-10-27T02:36:30.520489",
     "status": "completed"
    },
    "tags": []
   },
   "source": [
    "## Pandas to Numpy"
   ]
  },
  {
   "cell_type": "code",
   "execution_count": 12,
   "metadata": {
    "execution": {
     "iopub.execute_input": "2020-10-27T02:36:30.630021Z",
     "iopub.status.busy": "2020-10-27T02:36:30.629163Z",
     "iopub.status.idle": "2020-10-27T02:36:30.633052Z",
     "shell.execute_reply": "2020-10-27T02:36:30.632247Z"
    },
    "papermill": {
     "duration": 0.045147,
     "end_time": "2020-10-27T02:36:30.633198",
     "exception": false,
     "start_time": "2020-10-27T02:36:30.588051",
     "status": "completed"
    },
    "tags": []
   },
   "outputs": [],
   "source": [
    "#machine learning\n",
    "train_data = train_df.values\n",
    "test_data = test_df.values\n",
    "    \n",
    "X_train = train_data[:,1:]\n",
    "y_train = train_data[:,0]\n",
    "    \n",
    "X_test = test_data[:,1:]\n",
    "idx = test_data[:,0].astype(np.int32)"
   ]
  },
  {
   "cell_type": "code",
   "execution_count": 13,
   "metadata": {
    "execution": {
     "iopub.execute_input": "2020-10-27T02:36:30.714078Z",
     "iopub.status.busy": "2020-10-27T02:36:30.708765Z",
     "iopub.status.idle": "2020-10-27T02:36:31.025933Z",
     "shell.execute_reply": "2020-10-27T02:36:31.025290Z"
    },
    "papermill": {
     "duration": 0.358241,
     "end_time": "2020-10-27T02:36:31.026063",
     "exception": false,
     "start_time": "2020-10-27T02:36:30.667822",
     "status": "completed"
    },
    "tags": []
   },
   "outputs": [
    {
     "name": "stdout",
     "output_type": "stream",
     "text": [
      "random forest classifier score: 0.9797979797979798\n"
     ]
    }
   ],
   "source": [
    "#random forest classifier\n",
    "rfc = RandomForestClassifier(n_estimators=100)  \n",
    "rfc.fit(X_train, y_train)\n",
    "score_rfc = rfc.score(X_train, y_train)\n",
    "out_rfc = rfc.predict(X_test)\n",
    "print(f'random forest classifier score: {score_rfc}')"
   ]
  },
  {
   "cell_type": "code",
   "execution_count": 14,
   "metadata": {
    "execution": {
     "iopub.execute_input": "2020-10-27T02:36:31.103668Z",
     "iopub.status.busy": "2020-10-27T02:36:31.101593Z",
     "iopub.status.idle": "2020-10-27T02:36:31.153058Z",
     "shell.execute_reply": "2020-10-27T02:36:31.153755Z"
    },
    "papermill": {
     "duration": 0.093613,
     "end_time": "2020-10-27T02:36:31.153946",
     "exception": false,
     "start_time": "2020-10-27T02:36:31.060333",
     "status": "completed"
    },
    "tags": []
   },
   "outputs": [
    {
     "name": "stdout",
     "output_type": "stream",
     "text": [
      "logistic regression score: 0.8002244668911336\n"
     ]
    }
   ],
   "source": [
    "#logistic regression\n",
    "logreg = LogisticRegression(max_iter = 300)\n",
    "logreg.fit(X_train, y_train)\n",
    "score_logreg = logreg.score(X_train, y_train)\n",
    "out_logreg = logreg.predict(X_test)\n",
    "print(f'logistic regression score: {score_logreg}')"
   ]
  },
  {
   "cell_type": "code",
   "execution_count": 15,
   "metadata": {
    "execution": {
     "iopub.execute_input": "2020-10-27T02:36:31.234110Z",
     "iopub.status.busy": "2020-10-27T02:36:31.233316Z",
     "iopub.status.idle": "2020-10-27T02:36:31.300265Z",
     "shell.execute_reply": "2020-10-27T02:36:31.299525Z"
    },
    "papermill": {
     "duration": 0.110068,
     "end_time": "2020-10-27T02:36:31.300425",
     "exception": false,
     "start_time": "2020-10-27T02:36:31.190357",
     "status": "completed"
    },
    "tags": []
   },
   "outputs": [
    {
     "name": "stdout",
     "output_type": "stream",
     "text": [
      "SVM score: 0.6846240179573513\n"
     ]
    }
   ],
   "source": [
    "#SVM\n",
    "svc = SVC()\n",
    "svc.fit(X_train, y_train)\n",
    "score_svc = svc.score(X_train, y_train)\n",
    "out_svc = svc.predict(X_test)    \n",
    "print(f'SVM score: {score_svc}')    "
   ]
  },
  {
   "cell_type": "code",
   "execution_count": 16,
   "metadata": {
    "execution": {
     "iopub.execute_input": "2020-10-27T02:36:31.385661Z",
     "iopub.status.busy": "2020-10-27T02:36:31.382525Z",
     "iopub.status.idle": "2020-10-27T02:36:31.447427Z",
     "shell.execute_reply": "2020-10-27T02:36:31.448190Z"
    },
    "papermill": {
     "duration": 0.10876,
     "end_time": "2020-10-27T02:36:31.448396",
     "exception": false,
     "start_time": "2020-10-27T02:36:31.339636",
     "status": "completed"
    },
    "tags": []
   },
   "outputs": [
    {
     "name": "stdout",
     "output_type": "stream",
     "text": [
      "knn score: 0.8092031425364759\n"
     ]
    }
   ],
   "source": [
    "#knn classifier\n",
    "knn = KNeighborsClassifier(n_neighbors=5)\n",
    "knn.fit(X_train, y_train)\n",
    "score_knn = knn.score(X_train, y_train)\n",
    "out_knn = knn.predict(X_test)\n",
    "print(f'knn score: {score_knn}')  "
   ]
  },
  {
   "cell_type": "code",
   "execution_count": 17,
   "metadata": {
    "execution": {
     "iopub.execute_input": "2020-10-27T02:36:31.530560Z",
     "iopub.status.busy": "2020-10-27T02:36:31.529759Z",
     "iopub.status.idle": "2020-10-27T02:36:31.937544Z",
     "shell.execute_reply": "2020-10-27T02:36:31.936793Z"
    },
    "papermill": {
     "duration": 0.451569,
     "end_time": "2020-10-27T02:36:31.937707",
     "exception": false,
     "start_time": "2020-10-27T02:36:31.486138",
     "status": "completed"
    },
    "tags": []
   },
   "outputs": [],
   "source": [
    "#voting classifier    \n",
    "vclf = VotingClassifier(estimators=[('rf',rfc),('lr',logreg),('svm',svc),('knn',knn)], voting='hard', weights=[2,1,2,1])\n",
    "vclf.fit(X_train, y_train)\n",
    "out_vclf = vclf.predict(X_test)"
   ]
  },
  {
   "cell_type": "code",
   "execution_count": 18,
   "metadata": {
    "execution": {
     "iopub.execute_input": "2020-10-27T02:36:32.023889Z",
     "iopub.status.busy": "2020-10-27T02:36:32.023016Z",
     "iopub.status.idle": "2020-10-27T02:36:32.337381Z",
     "shell.execute_reply": "2020-10-27T02:36:32.336619Z"
    },
    "papermill": {
     "duration": 0.359492,
     "end_time": "2020-10-27T02:36:32.337516",
     "exception": false,
     "start_time": "2020-10-27T02:36:31.978024",
     "status": "completed"
    },
    "tags": []
   },
   "outputs": [
    {
     "data": {
      "text/html": [
       "<div>\n",
       "<style scoped>\n",
       "    .dataframe tbody tr th:only-of-type {\n",
       "        vertical-align: middle;\n",
       "    }\n",
       "\n",
       "    .dataframe tbody tr th {\n",
       "        vertical-align: top;\n",
       "    }\n",
       "\n",
       "    .dataframe thead th {\n",
       "        text-align: right;\n",
       "    }\n",
       "</style>\n",
       "<table border=\"1\" class=\"dataframe\">\n",
       "  <thead>\n",
       "    <tr style=\"text-align: right;\">\n",
       "      <th></th>\n",
       "      <th>PassengerId</th>\n",
       "      <th>Survived</th>\n",
       "    </tr>\n",
       "  </thead>\n",
       "  <tbody>\n",
       "    <tr>\n",
       "      <th>0</th>\n",
       "      <td>892</td>\n",
       "      <td>0</td>\n",
       "    </tr>\n",
       "    <tr>\n",
       "      <th>1</th>\n",
       "      <td>893</td>\n",
       "      <td>0</td>\n",
       "    </tr>\n",
       "    <tr>\n",
       "      <th>2</th>\n",
       "      <td>894</td>\n",
       "      <td>0</td>\n",
       "    </tr>\n",
       "    <tr>\n",
       "      <th>3</th>\n",
       "      <td>895</td>\n",
       "      <td>1</td>\n",
       "    </tr>\n",
       "    <tr>\n",
       "      <th>4</th>\n",
       "      <td>896</td>\n",
       "      <td>0</td>\n",
       "    </tr>\n",
       "    <tr>\n",
       "      <th>...</th>\n",
       "      <td>...</td>\n",
       "      <td>...</td>\n",
       "    </tr>\n",
       "    <tr>\n",
       "      <th>95</th>\n",
       "      <td>987</td>\n",
       "      <td>0</td>\n",
       "    </tr>\n",
       "    <tr>\n",
       "      <th>96</th>\n",
       "      <td>988</td>\n",
       "      <td>1</td>\n",
       "    </tr>\n",
       "    <tr>\n",
       "      <th>97</th>\n",
       "      <td>989</td>\n",
       "      <td>0</td>\n",
       "    </tr>\n",
       "    <tr>\n",
       "      <th>98</th>\n",
       "      <td>990</td>\n",
       "      <td>0</td>\n",
       "    </tr>\n",
       "    <tr>\n",
       "      <th>99</th>\n",
       "      <td>991</td>\n",
       "      <td>0</td>\n",
       "    </tr>\n",
       "  </tbody>\n",
       "</table>\n",
       "<p>100 rows × 2 columns</p>\n",
       "</div>"
      ],
      "text/plain": [
       "    PassengerId  Survived\n",
       "0           892         0\n",
       "1           893         0\n",
       "2           894         0\n",
       "3           895         1\n",
       "4           896         0\n",
       "..          ...       ...\n",
       "95          987         0\n",
       "96          988         1\n",
       "97          989         0\n",
       "98          990         0\n",
       "99          991         0\n",
       "\n",
       "[100 rows x 2 columns]"
      ]
     },
     "execution_count": 18,
     "metadata": {},
     "output_type": "execute_result"
    }
   ],
   "source": [
    "sub = pd.DataFrame({'PassengerId': test_df['PassengerId'].values, 'Survived':out_rfc.astype('int') })\n",
    "sub.to_csv('submission.csv', index = False)\n",
    "sub.head(100)"
   ]
  }
 ],
 "metadata": {
  "kernelspec": {
   "display_name": "Python 3",
   "language": "python",
   "name": "python3"
  },
  "language_info": {
   "codemirror_mode": {
    "name": "ipython",
    "version": 3
   },
   "file_extension": ".py",
   "mimetype": "text/x-python",
   "name": "python",
   "nbconvert_exporter": "python",
   "pygments_lexer": "ipython3",
   "version": "3.7.6"
  },
  "papermill": {
   "duration": 23.966186,
   "end_time": "2020-10-27T02:36:32.485070",
   "environment_variables": {},
   "exception": null,
   "input_path": "__notebook__.ipynb",
   "output_path": "__notebook__.ipynb",
   "parameters": {},
   "start_time": "2020-10-27T02:36:08.518884",
   "version": "2.1.0"
  }
 },
 "nbformat": 4,
 "nbformat_minor": 4
}
